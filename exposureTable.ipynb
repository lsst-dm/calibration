{
 "metadata": {
  "name": "",
  "signature": "sha256:38d528119171823f096b52d37842c4fe3c8c0e1bdc9150e6af77ec114df2baa8"
 },
 "nbformat": 3,
 "nbformat_minor": 0,
 "worksheets": [
  {
   "cells": [
    {
     "cell_type": "markdown",
     "metadata": {},
     "source": [
      "Calculate number of exposures and times for calibration data"
     ]
    },
    {
     "cell_type": "code",
     "collapsed": false,
     "input": [
      "import sys\n",
      "\n",
      "hour = 3600.0\n",
      "year = 365.0\n",
      "\n",
      "rM1 = 4.2               # m; outer radius M1\n",
      "rM3 = 2.4               # m; outer radius M3\n",
      "rAnnular = rM1 - rM3\n",
      "rFilter = 0.5*0.75      # m; radius of filter\n",
      "rM1AtFilter = 0.05      # m; radius of M1 at filter\n",
      "\n",
      "nBand = 6\n",
      "nCCD = 189\n",
      "totalBandwith = 700.0\n",
      "\n",
      "DProjector = 0.3        # m\n",
      "OverfillFactor = 2      # factor by which we exceed (rAnnular/DProjector)\n",
      "DlambdaFilter = 1       # nm\n",
      "DlambdaFlat = 100.0     # nm\n",
      "DlambdaOffset = 100.0   # nm\n",
      "DlambdaWhite = 10.0     # nm\n",
      "Nband = 6\n",
      "nPerFilter = 2          # for contamination measurements\n",
      "NspotCCD = 5\n",
      "Noffset = 9\n",
      "NFlat = 10\n",
      "Tdark = 1004            # s\n",
      "Tflat = 13              # s\n",
      "Tspot = 45              # s\n",
      "FracBandwidth = 0.5"
     ],
     "language": "python",
     "metadata": {},
     "outputs": [],
     "prompt_number": 1
    },
    {
     "cell_type": "code",
     "collapsed": false,
     "input": [
      "import collections\n",
      "\n",
      "times = collections.OrderedDict()\n",
      "times[\"contamination\"] =       [nPerFilter*nBand*NFlat, 'F', Tflat, 1]\n",
      "times[\"bias\"] =                [10, 'F', 2, 1]\n",
      "times[\"dark\"] =                [3, 'F', Tdark, 7]\n",
      "times[\"per-pixel flatfield\"] = [(totalBandwith/DlambdaFlat)*NFlat, 'F', Tflat, 30]\n",
      "times[\"system throughput\"] =   [(rAnnular/DProjector)*OverfillFactor*(totalBandwith/DlambdaWhite), 'S', Tspot, 30]\n",
      "times[\"mask illumination\"] =   [(totalBandwith/DlambdaFlat)*Noffset, 'S', Tspot, 30]\n",
      "times[\"fringe flat\"] =         [(rAnnular/DProjector)*OverfillFactor*(totalBandwith/DlambdaFilter)*NFlat, 'F', Tflat, 365]\n",
      "\n",
      "scaling = {\n",
      "    \"contamination\" :       r\"$\\nband \\nPointPerFilter \\nFlat$\",\n",
      "    \"bias\" :                \"\",\n",
      "    \"per-pixel flatfield\" : r\"$\\dlambdaFlat \\nFlat$\",\n",
      "    \"dark\" :                r\"$\\tdark$\",\n",
      "    \"system throughput\" :   r\"$\\dspotProjector \\overfillFactor \\dlambdaWhite$\",\n",
      "    \"mask illumination\" :   r\"$\\dlambdaOffset \\noffset$\",\n",
      "    \"fringe flat\" :         r\"$\\dspotProjector \\overfillFactor \\dlambdaFilter \\nFlat$\",\n",
      "}"
     ],
     "language": "python",
     "metadata": {},
     "outputs": [],
     "prompt_number": 2
    },
    {
     "cell_type": "code",
     "collapsed": false,
     "input": [
      "LaTeX = True\n",
      "\n",
      "sep = r\"&\"  if LaTeX else \"\"\n",
      "end = r\"\\\\\" if LaTeX else \"\"\n",
      "\n",
      "fd = open(\"exposureTable.tex\", \"w\") if True and LaTeX else sys.stdout\n",
      "\n",
      "if LaTeX:\n",
      "    print >> fd, r\"\"\"\\begin{table}\n",
      "\\begin{center}\n",
      "  \\begin{tabular}{lrcrrrrl}\"\"\"\n",
      "\n",
      "fmt = \"%-20s %s %8s %s %4s %s %10s %s %6s %s %10s %s %6s %s %s %s\"\n",
      "print >> fd, fmt % (\"Activity\", sep, \"Interval\", sep, \"Type\", sep, \n",
      "                    \"N/interval\", sep, \"N/year\", sep, \"t/interval\", sep, \"t/year\", sep,\n",
      "             \"Scaling\" if LaTeX else \"\", end)\n",
      "print >> fd, fmt % (\"\", sep, \"day\", sep, \"\", sep, \"\", sep, \"\", sep, \"hour\", sep, \"hour\", sep, \"\", end)\n",
      "print >> fd, r\"\\hline\" if LaTeX else 76*\"-\"\n",
      "\n",
      "totalTime = 0\n",
      "totalNexp = 0\n",
      "for activity, (nexp, tt, t, interval) in times.items():\n",
      "    Nexp = nexp*365.0/interval\n",
      "    ttot = t*Nexp\n",
      "    totalNexp += Nexp\n",
      "    totalTime += ttot\n",
      "    print >> fd, \"%-20s %s %8d %s %4s %s %10g %s %6s %s %10.2f %s %6.0f %s %s %s\" % (activity, sep, interval, sep,\n",
      "                                                                                     tt, sep,\n",
      "                                                                                     nexp, sep, int(Nexp), sep,\n",
      "                                                                              t*nexp/hour, sep, ttot/hour, sep,\n",
      "                                                                              scaling[activity] if LaTeX else \"\", end)\n",
      "if LaTeX:\n",
      "    print >> fd, r\"\"\"\\end{tabular}\n",
      "  \\caption{Number of exposures needed to accomplish various tasks once we know $qe_n(\\xb, \\lambda)$,\n",
      "    \n",
      "    The `Types' are \\textit{F}lat and \\textit{S}pot.\n",
      "    Per year, we need a total of %d exposures (%.0f hours),\n",
      "    or an average of %d exposures per day (%.2f hours).\n",
      "    }\n",
      "  \\label{tab:NExposure}\n",
      "\\end{center}\n",
      "\\end{table}\n",
      "    \"\"\" % (totalNexp, totalTime/hour, totalNexp/year, totalTime/year/hour)\n",
      "else:\n",
      "    print >> fd, \"\"\n",
      "    print >> fd, \"%d exposures/year  %d exposures/day\" % (totalNexp, totalNexp/year)\n",
      "    print >> fd, \"%.0f hour/year  %.2f hour/day\" % (totalTime/hour, totalTime/year/hour)\n",
      "    \n",
      "if fd != sys.stdout:\n",
      "    fd.close()"
     ],
     "language": "python",
     "metadata": {},
     "outputs": [],
     "prompt_number": 3
    },
    {
     "cell_type": "code",
     "collapsed": false,
     "input": [
      "rProjectorAtFilter = 0.5*DProjector*(rM1AtFilter/rM1)\n",
      "fracCoverageFilter = (rFilter/rProjectorAtFilter)**2/(nCCD*NspotCCD)\n",
      "# FullScan with one position of the spot within the 10cm M1 footprint on the filter\n",
      "NfullScan = (rAnnular/DProjector)*OverfillFactor*(totalBandwith/DlambdaWhite)*nBand*FracBandwidth\n",
      "TfullScan = NfullScan*Tspot\n",
      "\n",
      "print \"r_{projector, filter} %.4fm  fraction covered %.1f%%\" % (rProjectorAtFilter, 100/fracCoverageFilter)\n",
      "print \"N_{1 pointing} = %d  t_{1 pointing} = %g hour  t_{full coverage} = %g hour\" % (\n",
      "        NfullScan, TfullScan/hour, fracCoverageFilter*TfullScan/hour)\n",
      "             "
     ],
     "language": "python",
     "metadata": {},
     "outputs": [
      {
       "output_type": "stream",
       "stream": "stdout",
       "text": [
        "r_{projector, filter} 0.0018m  fraction covered 2.1%\n",
        "N_{1 pointing} = 2520  t_{1 pointing} = 31.5 hour  t_{full coverage} = 1470 hour\n"
       ]
      }
     ],
     "prompt_number": 6
    },
    {
     "cell_type": "code",
     "collapsed": false,
     "input": [
      "(rFilter/rM1AtFilter)**2"
     ],
     "language": "python",
     "metadata": {},
     "outputs": [
      {
       "metadata": {},
       "output_type": "pyout",
       "prompt_number": 12,
       "text": [
        "56.25"
       ]
      }
     ],
     "prompt_number": 12
    }
   ],
   "metadata": {}
  }
 ]
}