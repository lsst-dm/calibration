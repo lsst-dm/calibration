{
 "metadata": {
  "name": "",
  "signature": "sha256:5df847ccee844e10afb474c016d08d01c9cf2b6bb93ed8d02d1da60cca86d2e7"
 },
 "nbformat": 3,
 "nbformat_minor": 0,
 "worksheets": [
  {
   "cells": [
    {
     "cell_type": "markdown",
     "metadata": {},
     "source": [
      "Calculate number of exposures and times for calibration data"
     ]
    },
    {
     "cell_type": "code",
     "collapsed": false,
     "input": [
      "import sys\n",
      "\n",
      "hour = 3600.0\n",
      "year = 365.0\n",
      "\n",
      "rM1 = 4.2               # m; outer radius M1\n",
      "rM3 = 2.4               # m; outer radius M3\n",
      "rAnnular = rM1 - rM3\n",
      "rFilter = 0.5*0.75      # m; radius of filter\n",
      "rM1AtFilter = 0.05      # m; radius of M1 at filter\n",
      "\n",
      "nBand = 6\n",
      "nCCD = 189\n",
      "totalBandwith = 700.0\n",
      "\n",
      "DProjector = 0.3        # m\n",
      "OverfillFactor = 2      # factor by which we exceed (rAnnular/DProjector)\n",
      "DlambdaFilter = 1       # nm\n",
      "DlambdaFlat = 100.0     # nm\n",
      "DlambdaOffset = 100.0   # nm\n",
      "DlambdaWhite = 10.0     # nm\n",
      "Nband = 6\n",
      "nPerFilter = 2          # for contamination measurements\n",
      "NspotCCD = 5\n",
      "Noffset = 9\n",
      "NFlat = 10\n",
      "Tdark = 1004            # s\n",
      "Tflat = 13              # s\n",
      "Tspot = 45              # s\n",
      "FracBandwidth = 0.5"
     ],
     "language": "python",
     "metadata": {},
     "outputs": [],
     "prompt_number": 1
    },
    {
     "cell_type": "code",
     "collapsed": false,
     "input": [
      "import collections\n",
      "\n",
      "times = collections.OrderedDict()\n",
      "times[\"contamination\"] =       [nPerFilter*nBand*NFlat, 'F', Tflat, 1]\n",
      "times[\"bias\"] =                [10, 'F', 2, 1]\n",
      "times[\"dark\"] =                [3, 'F', Tdark, 7]\n",
      "times[\"per-pixel flatfield\"] = [(totalBandwith/DlambdaFlat)*NFlat, 'F', Tflat, 30]\n",
      "times[\"system throughput\"] =   [(rAnnular/DProjector)*OverfillFactor*(totalBandwith/DlambdaWhite), 'S', Tspot, 30]\n",
      "times[\"mask illumination\"] =   [(totalBandwith/DlambdaFlat)*Noffset, 'S', Tspot, 30]\n",
      "times[\"fringe flat\"] =         [(rAnnular/DProjector)*OverfillFactor*(totalBandwith/DlambdaFilter)*NFlat, 'F', Tflat, 365]\n",
      "\n",
      "scaling = {\n",
      "    \"contamination\" :       r\"$\\nband \\nPointPerFilter \\nFlat$\",\n",
      "    \"bias\" :                \"\",\n",
      "    \"per-pixel flatfield\" : r\"$\\dlambdaFlat \\nFlat$\",\n",
      "    \"dark\" :                r\"$\\tdark$\",\n",
      "    \"system throughput\" :   r\"$\\dspotProjector \\overfillFactor \\dlambdaWhite$\",\n",
      "    \"mask illumination\" :   r\"$\\dlambdaOffset \\noffset$\",\n",
      "    \"fringe flat\" :         r\"$\\dspotProjector \\overfillFactor \\dlambdaFilter \\nFlat$\",\n",
      "}"
     ],
     "language": "python",
     "metadata": {},
     "outputs": [],
     "prompt_number": 2
    },
    {
     "cell_type": "code",
     "collapsed": false,
     "input": [
      "LaTeX = False\n",
      "\n",
      "sep = r\"&\"  if LaTeX else \"\"\n",
      "end = r\"\\\\\" if LaTeX else \"\"\n",
      "\n",
      "fd = open(\"exposureTable.tex\", \"w\") if True and LaTeX else sys.stdout\n",
      "\n",
      "if LaTeX:\n",
      "    print >> fd, r\"\"\"\\begin{table}\n",
      "\\begin{center}\n",
      "  \\begin{tabular}{lrcrrrrl}\"\"\"\n",
      "\n",
      "fmt = \"%-20s %s %8s %s %4s %s %10s %s %6s %s %10s %s %6s %s %s %s\"\n",
      "print >> fd, fmt % (\"Activity\", sep, \"Interval\", sep, \"Type\", sep, \n",
      "                    \"N/interval\", sep, \"N/year\", sep, \"t/interval\", sep, \"t/year\", sep,\n",
      "             \"Scaling\" if LaTeX else \"\", end)\n",
      "print >> fd, fmt % (\"\", sep, \"day\", sep, \"\", sep, \"\", sep, \"\", sep, \"hour\", sep, \"hour\", sep, \"\", end)\n",
      "print >> fd, r\"\\hline\" if LaTeX else 76*\"-\"\n",
      "\n",
      "totalTime = 0\n",
      "totalNexp = 0\n",
      "for activity, (nexp, tt, t, interval) in times.items():\n",
      "    Nexp = nexp*365.0/interval\n",
      "    ttot = t*Nexp\n",
      "    totalNexp += Nexp\n",
      "    totalTime += ttot\n",
      "    print >> fd, \"%-20s %s %8d %s %4s %s %10g %s %6s %s %10.2f %s %6.0f %s %s %s\" % (activity, sep, interval, sep,\n",
      "                                                                                     tt, sep,\n",
      "                                                                                     nexp, sep, int(Nexp), sep,\n",
      "                                                                              t*nexp/hour, sep, ttot/hour, sep,\n",
      "                                                                              scaling[activity] if LaTeX else \"\", end)\n",
      "if LaTeX:\n",
      "    print >> fd, r\"\"\"\\end{tabular}\n",
      "  \\caption{Number of exposures needed to accomplish various tasks once we know $qe_n(\\xb, \\lambda)$.\n",
      "    The `Types' are \\textit{F}lat and \\textit{S}pot.\n",
      "    Per year, we need a total of %d exposures (%.0f hours),\n",
      "    or an average of %d exposures per day (%.2f hours).  \\Nb only the `calibration' exposures\n",
      "    are taken with a filter in the beam.\n",
      "    }\n",
      "  \\label{tab:NExposure}\n",
      "\\end{center}\n",
      "\\end{table}\n",
      "    \"\"\" % (totalNexp, totalTime/hour, totalNexp/year, totalTime/year/hour)\n",
      "else:\n",
      "    print >> fd, \"\"\n",
      "    print >> fd, \"%d exposures/year  %d exposures/day\" % (totalNexp, totalNexp/year)\n",
      "    print >> fd, \"%.0f hour/year  %.2f hour/day\" % (totalTime/hour, totalTime/year/hour)\n",
      "    \n",
      "if fd != sys.stdout:\n",
      "    fd.close()"
     ],
     "language": "python",
     "metadata": {},
     "outputs": [
      {
       "output_type": "stream",
       "stream": "stdout",
       "text": [
        "Activity              Interval  Type  N/interval  N/year  t/interval  t/year   \n",
        "                           day                                  hour    hour   \n",
        "----------------------------------------------------------------------------\n",
        "contamination                1     F         120   43800        0.43     158   \n",
        "bias                         1     F          10    3650        0.01       2   \n",
        "dark                         7     F           3     156        0.84      44   \n",
        "per-pixel flatfield         30     F          70     851        0.25       3   \n",
        "system throughput           30     S         840   10220       10.50     128   \n",
        "mask illumination           30     S          63     766        0.79      10   \n",
        "fringe flat                365     F       84000   84000      303.33     303   \n",
        "\n",
        "143444 exposures/year  392 exposures/day\n",
        "648 hour/year  1.77 hour/day\n"
       ]
      }
     ],
     "prompt_number": 6
    },
    {
     "cell_type": "code",
     "collapsed": false,
     "input": [
      "rProjectorAtFilter = 0.5*DProjector*(rM1AtFilter/rM1)\n",
      "fracCoverageFilter = (rFilter/rProjectorAtFilter)**2/(nCCD*NspotCCD)\n",
      "# FullScan with one position of the spot within the 10cm M1 footprint on the filter and a single radial scan across M1\n",
      "NfullScan = (rAnnular/DProjector)*OverfillFactor*(totalBandwith/DlambdaWhite)*nBand*FracBandwidth\n",
      "TfullScan = NfullScan*Tspot\n",
      "\n",
      "print \"r_{projector, filter} %.4fm  fraction covered %.1f%%\" % (rProjectorAtFilter, 100/fracCoverageFilter)\n",
      "print \"N_{1 pointing} = %d  t_{1 pointing} = %g hour  t_{full coverage} = %g hour\" % (\n",
      "        NfullScan, TfullScan/hour, fracCoverageFilter*TfullScan/hour)"
     ],
     "language": "python",
     "metadata": {},
     "outputs": [
      {
       "output_type": "stream",
       "stream": "stdout",
       "text": [
        "r_{projector, filter} 0.0018m  fraction covered 2.1%\n",
        "N_{1 pointing} = 2520  t_{1 pointing} = 31.5 hour  t_{full coverage} = 1470 hour\n"
       ]
      }
     ],
     "prompt_number": 4
    },
    {
     "cell_type": "code",
     "collapsed": false,
     "input": [
      "(rFilter/rM1AtFilter)**2"
     ],
     "language": "python",
     "metadata": {},
     "outputs": [
      {
       "metadata": {},
       "output_type": "pyout",
       "prompt_number": 5,
       "text": [
        "56.25"
       ]
      }
     ],
     "prompt_number": 5
    },
    {
     "cell_type": "code",
     "collapsed": false,
     "input": [
      "rAnnular = rM1 - rM3\n",
      "rFilter = 0.5*0.75      # m; radius of filter\n",
      "rM1AtFilter = 0.05      # m; radius of M1 at filter\n",
      "\n",
      "DProjector = 0.3        # m\n",
      "OverfillFactor = 2      # factor by which we exceed (rAnnular/DProjector)"
     ],
     "language": "python",
     "metadata": {},
     "outputs": []
    },
    {
     "cell_type": "code",
     "collapsed": false,
     "input": [
      "pi*(rM1**2 - rM3**2)/(pi*(0.5*DProjector)**2)/(OverfillFactor*rAnnular/(0.5*DProjector))"
     ],
     "language": "python",
     "metadata": {},
     "outputs": [
      {
       "metadata": {},
       "output_type": "pyout",
       "prompt_number": 12,
       "text": [
        "21.999999999999996"
       ]
      }
     ],
     "prompt_number": 12
    },
    {
     "cell_type": "code",
     "collapsed": false,
     "input": [
      "2*specia"
     ],
     "language": "python",
     "metadata": {},
     "outputs": [],
     "prompt_number": 10
    }
   ],
   "metadata": {}
  }
 ]
}